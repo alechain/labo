{
 "cells": [
  {
   "cell_type": "code",
   "execution_count": 1,
   "id": "dccb32f9-a857-4dc0-87e7-e6b62dc23735",
   "metadata": {},
   "outputs": [
    {
     "name": "stderr",
     "output_type": "stream",
     "text": [
      "Loading required package: data.table\n",
      "Loading required package: rpart\n",
      "Loading required package: rpart.plot\n"
     ]
    }
   ],
   "source": [
    "#Arbol elemental con libreria  rpart\n",
    "#Debe tener instaladas las librerias  data.table  ,  rpart  y  rpart.plot\n",
    "\n",
    "#cargo las librerias que necesito\n",
    "require(\"data.table\")\n",
    "require(\"rpart\")\n",
    "require(\"rpart.plot\")"
   ]
  },
  {
   "cell_type": "code",
   "execution_count": 38,
   "id": "f1bb99af-b834-451e-a3f1-14bd35094b86",
   "metadata": {},
   "outputs": [],
   "source": [
    "dataset  <- fread(\"./datasets/competencia1_2022_FE.csv\")\n"
   ]
  },
  {
   "cell_type": "code",
   "execution_count": 39,
   "id": "a80463cb-3c1b-4c8c-aecf-3104ac126e94",
   "metadata": {},
   "outputs": [],
   "source": [
    "dataset[,clase_binaria:=ifelse(clase_ternaria=='CONTINUA','NO','SI')]"
   ]
  },
  {
   "cell_type": "code",
   "execution_count": 40,
   "id": "dd89d598-3126-490b-8b2e-d9be91bceeec",
   "metadata": {},
   "outputs": [
    {
     "ename": "ERROR",
     "evalue": "Error in ftable.default(): nothing to tabulate\n",
     "output_type": "error",
     "traceback": [
      "Error in ftable.default(): nothing to tabulate\nTraceback:\n",
      "1. ftable()",
      "2. ftable.default()",
      "3. stop(\"nothing to tabulate\")"
     ]
    }
   ],
   "source": [
    "ftable()"
   ]
  },
  {
   "cell_type": "code",
   "execution_count": 41,
   "id": "4c5c6475-6a74-45ef-8dfb-fd9f7e51036d",
   "metadata": {},
   "outputs": [],
   "source": [
    "dataset<-dataset[,-\"clase_ternaria\"]"
   ]
  },
  {
   "cell_type": "code",
   "execution_count": 42,
   "id": "e6ecaac7-09b6-4cc5-aee9-583aa46c831c",
   "metadata": {},
   "outputs": [
    {
     "ename": "ERROR",
     "evalue": "Error in count(numero_de_cliente): no se pudo encontrar la función \"count\"\n",
     "output_type": "error",
     "traceback": [
      "Error in count(numero_de_cliente): no se pudo encontrar la función \"count\"\nTraceback:\n",
      "1. head(dataset[, .(nu = count(numero_de_cliente)), by = clase_binaria])",
      "2. dataset[, .(nu = count(numero_de_cliente)), by = clase_binaria]",
      "3. `[.data.table`(dataset, , .(nu = count(numero_de_cliente)), by = clase_binaria)"
     ]
    }
   ],
   "source": [
    "head(dataset[,.(nu=count(numero_de_cliente)),by=clase_binaria])"
   ]
  },
  {
   "cell_type": "code",
   "execution_count": null,
   "id": "4bb45a58-8272-4ae3-895a-a5b70e3a3511",
   "metadata": {},
   "outputs": [],
   "source": [
    "dataset[,.(var=N.), by=clase_binaria]"
   ]
  },
  {
   "cell_type": "code",
   "execution_count": 43,
   "id": "d73fee96-b414-465c-b037-c82b848afefb",
   "metadata": {},
   "outputs": [],
   "source": [
    "dtrain  <- dataset[ foto_mes==202101 ]  #defino donde voy a entrenar\n",
    "dapply  <- dataset[ foto_mes==202103 ]  #defino donde voy a aplicar el modelo\n"
   ]
  },
  {
   "cell_type": "code",
   "execution_count": 5,
   "id": "1e83c36f-2bd6-448f-8e48-7ebc2204438e",
   "metadata": {},
   "outputs": [],
   "source": []
  },
  {
   "cell_type": "code",
   "execution_count": 20,
   "id": "ffdef8f5-98f0-4b8c-93cd-f4793fa95a38",
   "metadata": {},
   "outputs": [],
   "source": [
    "#genero el modelo,  aqui se construye el arbol\n",
    "modelo  <- rpart(formula=   \"clase_binaria ~ . \",  #quiero predecir clase_ternaria a partir de el resto de las variables\n",
    "                 data=      dtrain,  #los datos donde voy a entrenar\n",
    "                 xval=      0,\n",
    "                 cp=       -0.3,   #esto significa no limitar la complejidad de los splits\n",
    "                 minsplit=  0,     #minima cantidad de registros para que se haga el split\n",
    "                 minbucket= 1,     #tamaño minimo de una hoja\n",
    "                 maxdepth=  4 )    #profundidad maxima del arbol"
   ]
  },
  {
   "cell_type": "code",
   "execution_count": null,
   "id": "c5b4e636-8fcb-47d7-a423-62384a0636b3",
   "metadata": {},
   "outputs": [],
   "source": []
  },
  {
   "cell_type": "code",
   "execution_count": null,
   "id": "8c60777b-cb98-4c2b-9f59-d319a6a056e8",
   "metadata": {},
   "outputs": [],
   "source": []
  },
  {
   "cell_type": "code",
   "execution_count": 44,
   "id": "cf003065-f331-4cbf-a096-bfbaeefeb101",
   "metadata": {},
   "outputs": [],
   "source": [
    "#grafico el arbol\n",
    "#prp(modelo, extra=101, digits=5, branch=1, type=4, varlen=0, faclen=0)\n",
    "\n",
    "\n",
    "#aplico el modelo a los datos nuevos\n",
    "prediccion  <- predict( object= modelo,\n",
    "                        newdata= dapply,\n",
    "                        type = \"prob\")\n",
    "\n"
   ]
  },
  {
   "cell_type": "code",
   "execution_count": 45,
   "id": "4749ae78-ac94-4838-a9e1-5c21e6e38299",
   "metadata": {},
   "outputs": [],
   "source": [
    "#prediccion es una matriz con TRES columnas, llamadas \"BAJA+1\", \"BAJA+2\"  y \"CONTINUA\"\n",
    "#cada columna es el vector de probabilidades \n",
    "\n",
    "#agrego a dapply una columna nueva que es la probabilidad de BAJA+2\n",
    "dapply[ , prob_baja2 := prediccion[, \"SI\"] ]\n"
   ]
  },
  {
   "cell_type": "code",
   "execution_count": 46,
   "id": "c235c9cb-b6aa-44a9-a16e-5f6d6ef4a3eb",
   "metadata": {},
   "outputs": [],
   "source": [
    "\n",
    "#solo le envio estimulo a los registros con probabilidad de BAJA+2 mayor  a  1/40\n",
    "dapply[ , Predicted := as.numeric( prob_baja2 > 0.044 ) ]\n",
    "\n",
    "#genero el archivo para Kaggle\n",
    "#primero creo la carpeta donde va el experimento\n",
    "#dir.create( \"./exp/\" )\n",
    "#dir.create( \"./exp/KA2001\" )\n",
    "\n",
    "fwrite( dapply[ , list(numero_de_cliente, Predicted) ], #solo los campos para Kaggle\n",
    "        file= \"Kbinaria.csv\",\n",
    "        sep=  \",\" )"
   ]
  },
  {
   "cell_type": "code",
   "execution_count": 47,
   "id": "c2994e9f-8bf4-48fc-8bd2-f7c190d161a7",
   "metadata": {},
   "outputs": [
    {
     "data": {
      "text/html": [
       "0.05"
      ],
      "text/latex": [
       "0.05"
      ],
      "text/markdown": [
       "0.05"
      ],
      "text/plain": [
       "[1] 0.05"
      ]
     },
     "metadata": {},
     "output_type": "display_data"
    }
   ],
   "source": [
    "2/40"
   ]
  },
  {
   "cell_type": "code",
   "execution_count": 35,
   "id": "f9537c84-f024-423f-978d-1b9a6da4e78f",
   "metadata": {},
   "outputs": [
    {
     "data": {
      "text/plain": [
       " 0.0024390243902439 0.00588235294117647 0.00942126514131898 0.0128767645936665 0.0237830629028673 0.032319391634981 0.0355164548712936 0.0368852459016394 0.0405405405405405 0.0516990291262136 0.0887487875848691 0.139511709018435 0.361370716510903 0.636363636363636      1\n",
       "                                                                                                                                                                                                                                                                               \n",
       "             134728                 346                 780              10392               4518               518               2796                236                221               4047               1761              2238               304                11      4"
      ]
     },
     "metadata": {},
     "output_type": "display_data"
    }
   ],
   "source": [
    "ftable(dapply[,prob_baja2])"
   ]
  },
  {
   "cell_type": "code",
   "execution_count": null,
   "id": "998c17a0-1253-4147-951a-d8c4acf2fa0c",
   "metadata": {},
   "outputs": [],
   "source": []
  }
 ],
 "metadata": {
  "kernelspec": {
   "display_name": "R",
   "language": "R",
   "name": "ir"
  },
  "language_info": {
   "codemirror_mode": "r",
   "file_extension": ".r",
   "mimetype": "text/x-r-source",
   "name": "R",
   "pygments_lexer": "r",
   "version": "3.6.0"
  }
 },
 "nbformat": 4,
 "nbformat_minor": 5
}
