{
 "cells": [
  {
   "cell_type": "code",
   "execution_count": null,
   "id": "9e96a2df",
   "metadata": {},
   "outputs": [],
   "source": [
    "rm(list=ls())"
   ]
  },
  {
   "cell_type": "code",
   "execution_count": null,
   "id": "2092837f",
   "metadata": {
    "vscode": {
     "languageId": "r"
    }
   },
   "outputs": [],
   "source": [
    "#Optimizacion Bayesiana de hiperparametros de  rpart\n",
    "#funciona automaticamente con EXPERIMENTOS\n",
    "#va generando incrementalmente salidas para kaggle\n",
    "\n",
    "#limpio la memoria\n",
    "rm( list=ls() )  #remove all objects\n",
    "gc()             #garbage collection\n",
    "\n",
    "library(\"data.table\")\n",
    "\n",
    "#library(\"rlist\")\n",
    "library(\"yaml\")\n",
    "\n",
    "library(\"rpart\")\n",
    "library(\"parallel\")\n",
    "\n",
    "#paquetes necesarios para la Bayesian Optimization\n",
    "library(\"DiceKriging\")\n",
    "library(\"mlrMBO\")"
   ]
  },
  {
   "cell_type": "code",
   "execution_count": 1,
   "id": "a80aa6fd",
   "metadata": {},
   "outputs": [
    {
     "ename": "ERROR",
     "evalue": "Error in library(\"mlrMBO\"): there is no package called ‘mlrMBO’\n",
     "output_type": "error",
     "traceback": [
      "Error in library(\"mlrMBO\"): there is no package called ‘mlrMBO’\nTraceback:\n",
      "1. library(\"mlrMBO\")"
     ]
    }
   ],
   "source": [
    "library(\"mlrMBO\")"
   ]
  },
  {
   "cell_type": "code",
   "execution_count": null,
   "id": "255b1b1e",
   "metadata": {},
   "outputs": [],
   "source": [
    "install.packages(\"mlrMBO\")"
   ]
  },
  {
   "cell_type": "code",
   "execution_count": null,
   "id": "016b55b1-36ad-4c81-a5cd-288a0868b658",
   "metadata": {},
   "outputs": [],
   "source": [
    "install.packages(\"devtools\") # Install devtools, if you haven't already.\n",
    "devtools::install_github(\"DiceKriging\", \"DiceKrigingClub\")\n"
   ]
  },
  {
   "cell_type": "code",
   "execution_count": null,
   "id": "780032d9-a2c0-46a4-bea4-4522b32cb8e1",
   "metadata": {},
   "outputs": [],
   "source": []
  },
  {
   "cell_type": "code",
   "execution_count": null,
   "id": "cdbf9f90",
   "metadata": {
    "vscode": {
     "languageId": "r"
    }
   },
   "outputs": [],
   "source": [
    "#para poder usarlo en la PC y en la nube\n",
    "switch ( Sys.info()[['sysname']],\n",
    "         Windows = { directory.root   <-  \"M:\\\\\" },   #Microsoft Windows\n",
    "         Darwin  = { directory.root   <-  \"~/dm/\" },  #Apple MAC\n",
    "#         Linux   = { directory.root   <-  \"~/buckets/b1/\" }  #Entorno Google Cloud\n",
    "         Linux   = { directory.root   <-  \"~/\" }  #Hay un problema en el almacenamiento en cloud del BO por el momento se graba en el usuario\n",
    "       )\n",
    "#defino la carpeta donde trabajo\n",
    "\n",
    "#Hay un error en el almacenamiento \n",
    "\n",
    "setwd( directory.root )"
   ]
  },
  {
   "cell_type": "code",
   "execution_count": null,
   "id": "0b489a50",
   "metadata": {
    "vscode": {
     "languageId": "r"
    }
   },
   "outputs": [],
   "source": [
    "kexperimento  <- NA   #NA si se corre la primera vez, un valor concreto si es para continuar procesando\n",
    "\n",
    "kscript           <- \"03.04 - BO Rpart\"\n",
    "kBO_iter    <-  200   #cantidad de iteraciones de la Optimizacion Bayesiana\n",
    "\n",
    "kcarpeta_datasets    <- \"./datasets/\"                          #VM o Ubuntu\n",
    "\n",
    "#Archivo con datos etiquetados para entrenamiento\n",
    "karchivo_entrada      <-  paste0(kcarpeta_datasets, \"competencia1_2022_FE.csv\")\n",
    "\n",
    "\n",
    "#Ganancia por TP\n",
    "kTPGain               <-  78000\n",
    "\n",
    "#Pérdida por FP\n",
    "kFPGain               <-  -2000\n",
    "\n",
    "\n",
    "hs  <- makeParamSet(\n",
    "          makeNumericParam(\"cp\"       , lower= -1   , upper=    0.1),\n",
    "          makeIntegerParam(\"minsplit\" , lower=  1L  , upper= 8000L),  #la letra L al final significa ENTERO\n",
    "          makeIntegerParam(\"minbucket\", lower=  1L  , upper= 2000L),\n",
    "          makeIntegerParam(\"maxdepth\" , lower=  3L  , upper=   20L),\n",
    "          forbidden = quote( minbucket > 0.5*minsplit ) )\n",
    "\n",
    "\n",
    "ksemilla_azar  <- 102191"
   ]
  },
  {
   "cell_type": "markdown",
   "id": "426b9b91-0ff7-45dd-8245-a32801ff5b76",
   "metadata": {
    "vscode": {
     "languageId": "r"
    }
   },
   "source": [
    "#------------------------------------------------------------------------------\n",
    "#Funcion que lleva el registro de los experimentos\n",
    "\n",
    "get_experimento  <- function()\n",
    "{\n",
    "  if( !file.exists( \"./maestro.yaml\" ) )  cat( file=\"./maestro.yaml\", \"experimento: 1000\" )\n",
    "\n",
    "  exp  <- read_yaml( \"./maestro.yaml\" )\n",
    "  experimento_actual  <- exp$experimento\n",
    "\n",
    "  exp$experimento  <- as.integer(exp$experimento + 1)\n",
    "  Sys.chmod( \"./maestro.yaml\", mode = \"0644\", use_umask = TRUE)\n",
    "  write_yaml( exp, \"./maestro.yaml\" )\n",
    "  Sys.chmod( \"./maestro.yaml\", mode = \"0444\", use_umask = TRUE) #dejo el archivo readonly\n",
    "\n",
    "  return( experimento_actual )\n",
    "}"
   ]
  },
  {
   "cell_type": "code",
   "execution_count": null,
   "id": "d2e38325-19a3-4e59-8b0a-26471a2c4fd5",
   "metadata": {},
   "outputs": [],
   "source": [
    "#------------------------------------------------------------------------------\n",
    "#Funcion que lleva el registro de los experimentos\n",
    "\n",
    "get_experimento  <- function()\n",
    "{\n",
    "  if( !file.exists( \"./maestro.yaml\" ) )  cat( file=\"./maestro.yaml\", \"experimento: 1000\" )\n",
    "\n",
    "  exp  <- read_yaml( \"./maestro.yaml\" )\n",
    "  experimento_actual  <- exp$experimento\n",
    "\n",
    "  exp$experimento  <- as.integer(exp$experimento + 1)\n",
    "  Sys.chmod( \"./maestro.yaml\", mode = \"0644\", use_umask = TRUE)\n",
    "  write_yaml( exp, \"./maestro.yaml\" )\n",
    "  Sys.chmod( \"./maestro.yaml\", mode = \"0444\", use_umask = TRUE) #dejo el archivo readonly\n",
    "\n",
    "  return( experimento_actual )\n",
    "}"
   ]
  },
  {
   "cell_type": "code",
   "execution_count": null,
   "id": "1e9841a2",
   "metadata": {
    "vscode": {
     "languageId": "r"
    }
   },
   "outputs": [],
   "source": [
    "#------------------------------------------------------------------------------\n",
    "#funcion para particionar, es la que Andres reemplaza con caret\n",
    "\n",
    "particionar  <- function( data, division, agrupa=\"\", campo=\"fold\", start=1, seed=NA )\n",
    "{\n",
    "  if( !is.na( seed)  )   set.seed( seed )\n",
    "\n",
    "  bloque  <- unlist( mapply(  function(x,y) { rep( y, x ) }, division, seq( from=start, length.out=length(division) )  ) )\n",
    "\n",
    "  data[ , (campo) :=  sample( rep( bloque, ceiling(.N/length(bloque))) )[1:.N],\n",
    "           by= agrupa ]\n",
    "}\n",
    "#------------------------------------------------------------------------------"
   ]
  },
  {
   "cell_type": "code",
   "execution_count": null,
   "id": "c1e1901e",
   "metadata": {
    "vscode": {
     "languageId": "r"
    }
   },
   "outputs": [],
   "source": [
    "ArbolSimple  <- function( fold_test, data, param )\n",
    "{\n",
    "  #genero el modelo\n",
    "  modelo  <- rpart(\"clase_ternaria ~ .\", \n",
    "                   data= data[ fold != fold_test, ],\n",
    "                   xval= 0,\n",
    "                   control= param )\n",
    "\n",
    "  #aplico el modelo a los datos de testing, fold==2\n",
    "  prediccion  <- predict( modelo, data[ fold==fold_test, ], type = \"prob\")\n",
    "\n",
    "  prob_baja2  <- prediccion[, \"BAJA+2\"]\n",
    "\n",
    "  ganancia_testing  <- sum(  data[ fold==fold_test ][ prob_baja2 >0.025,  ifelse( clase_ternaria==\"BAJA+2\", kTPGain, kFPGain ) ] )\n",
    "\n",
    "  return( ganancia_testing )\n",
    "}"
   ]
  },
  {
   "cell_type": "code",
   "execution_count": null,
   "id": "3f25f951",
   "metadata": {
    "vscode": {
     "languageId": "r"
    }
   },
   "outputs": [],
   "source": [
    "#------------------------------------------------------------------------------\n",
    "\n",
    "ArbolesCrossValidation  <- function( data, param, qfolds, pagrupa, semilla )\n",
    "{\n",
    "  divi  <- rep( 1, qfolds )\n",
    "  particionar( data, divi, seed=semilla, agrupa=pagrupa )\n",
    "\n",
    "  ganancias  <- mcmapply( ArbolSimple, \n",
    "                          seq(qfolds), # 1 2 3 4 5  \n",
    "                          MoreArgs= list( data, param), \n",
    "                          SIMPLIFY= FALSE,\n",
    "                          mc.cores= 5 )   #se puede subir a 5 si posee Linux o Mac OS\n",
    "\n",
    "  data[ , fold := NULL ]\n",
    "  #devuelvo la primer ganancia y el promedio\n",
    "  return( mean( unlist( ganancias )) *  qfolds )   #aqui normalizo la ganancia\n",
    "}"
   ]
  },
  {
   "cell_type": "code",
   "execution_count": null,
   "id": "6ba36867",
   "metadata": {
    "vscode": {
     "languageId": "r"
    }
   },
   "outputs": [],
   "source": [
    "#------------------------------------------------------------------------------\n",
    "#esta funcion solo puede recibir los parametros que se estan optimizando\n",
    "#el resto de los parametros se pasan como variables globales\n",
    "\n",
    "EstimarGanancia  <- function( x )\n",
    "{\n",
    "   GLOBAL_iteracion  <<-  GLOBAL_iteracion + 1\n",
    "\n",
    "   xval_folds  <- 5\n",
    "   ganancia  <-  ArbolesCrossValidation( dtrain, param=x, qfolds= xval_folds, pagrupa=\"clase_ternaria\", semilla=ksemilla_azar )\n",
    "\n",
    "   #si tengo una ganancia superadora, genero el archivo para Kaggle\n",
    "   if(  ganancia > GLOBAL_ganancia_max )\n",
    "   {\n",
    "     GLOBAL_ganancia_max <<-  ganancia  #asigno la nueva maxima ganancia\n",
    "    \n",
    "     modelo  <- rpart(\"clase_ternaria ~ .\",\n",
    "                      data= dtrain,\n",
    "                      xval= 0,\n",
    "                      control= x )\n",
    "\n",
    "     #genero el vector con la prediccion, la probabilidad de ser positivo\n",
    "     prediccion  <- predict( modelo, dapply)\n",
    "\n",
    "     prob_baja2  <- prediccion[, \"BAJA+2\"]\n",
    "     Predicted   <- ifelse( prob_baja2 > 0.025, 1, 0 )\n",
    "\n",
    "     entrega  <-  as.data.table( list( \"numero_de_cliente\"=dapply$numero_de_cliente, \"Predicted\"=Predicted)  )\n",
    "\n",
    "     #genero el archivo para Kaggle\n",
    "     fwrite( entrega, \n",
    "             file= paste0(kkaggle, GLOBAL_iteracion, \".csv\" ),\n",
    "             sep=  \",\" )\n",
    "   }\n",
    "\n",
    "   return( ganancia )\n",
    "}\n",
    "#------------------------------------------------------------------------------"
   ]
  },
  {
   "cell_type": "code",
   "execution_count": null,
   "id": "3bdbd4cb",
   "metadata": {
    "vscode": {
     "languageId": "r"
    }
   },
   "outputs": [],
   "source": [
    "#Aqui empieza el programa\n",
    "\n",
    "if( is.na(kexperimento ) )   kexperimento <- get_experimento()  #creo el experimento"
   ]
  },
  {
   "cell_type": "code",
   "execution_count": null,
   "id": "57f2a412",
   "metadata": {
    "vscode": {
     "languageId": "r"
    }
   },
   "outputs": [],
   "source": [
    "#en estos archivos quedan los resultados\n",
    "kbayesiana  <- paste0(\"./E\",  kexperimento, \"_rpart.RDATA\" )\n",
    "kkaggle     <- paste0(\"./E\",kexperimento, \"_rpart_kaggle_\" )"
   ]
  },
  {
   "cell_type": "code",
   "execution_count": null,
   "id": "a555476f",
   "metadata": {
    "vscode": {
     "languageId": "r"
    }
   },
   "outputs": [],
   "source": [
    "GLOBAL_ganancia_max  <-  -Inf\n",
    "GLOBAL_iteracion  <- 0"
   ]
  },
  {
   "cell_type": "code",
   "execution_count": null,
   "id": "81cc80f4",
   "metadata": {
    "vscode": {
     "languageId": "r"
    }
   },
   "outputs": [],
   "source": [
    "#cargo los datos\n",
    "dataset <- fread(karchivo_entrada)\n",
    "\n",
    "#Para hacer pruebas rapidas puedo reducir el dataset a una fraccion\n",
    "#subsample <- sample(1:nrow(dataset), .1 * nrow(dataset))\n",
    "#dataset <- dataset[subsample,]\n",
    "\n",
    "dtrain  <- dataset[ foto_mes==202101 ]  #defino donde voy a entrenar\n",
    "\n",
    "dapply  <- dataset[ foto_mes==202103 ]  #defino donde voy a aplicar el modelo"
   ]
  },
  {
   "cell_type": "code",
   "execution_count": null,
   "id": "c81db6a6",
   "metadata": {
    "vscode": {
     "languageId": "r"
    }
   },
   "outputs": [],
   "source": [
    "#Aqui comienza la configuracion de la Bayesian Optimization\n",
    "\n",
    "configureMlr( show.learner.output = FALSE)\n",
    "\n",
    "funcion_optimizar  <- EstimarGanancia\n",
    "\n",
    "#configuro la busqueda bayesiana,  los hiperparametros que se van a optimizar\n",
    "#por favor, no desesperarse por lo complejo\n",
    "obj.fun  <- makeSingleObjectiveFunction(\n",
    "              fn=       funcion_optimizar,\n",
    "              minimize= FALSE,   #estoy Maximizando la ganancia\n",
    "              noisy=    TRUE,\n",
    "              par.set=  hs,\n",
    "              has.simple.signature = FALSE\n",
    "             )\n",
    "\n",
    "ctrl  <- makeMBOControl( save.on.disk.at.time= 60,  save.file.path= kbayesiana)\n",
    "ctrl  <- setMBOControlTermination(ctrl, iters= kBO_iter )\n",
    "ctrl  <- setMBOControlInfill(ctrl, crit= makeMBOInfillCritEI())\n",
    "\n",
    "surr.km  <-  makeLearner(\"regr.km\", predict.type= \"se\", covtype= \"matern3_2\", control= list(trace= TRUE))"
   ]
  },
  {
   "cell_type": "code",
   "execution_count": null,
   "id": "9383ca74",
   "metadata": {
    "vscode": {
     "languageId": "r"
    }
   },
   "outputs": [],
   "source": [
    "#inicio la optimizacion bayesiana\n",
    "if(!file.exists(kbayesiana)) {\n",
    "  run  <- mbo(obj.fun, learner = surr.km, control = ctrl)\n",
    "} else  run  <- mboContinue( kbayesiana )   #retomo en caso que ya exista"
   ]
  },
  {
   "cell_type": "code",
   "execution_count": null,
   "id": "fd592624",
   "metadata": {
    "vscode": {
     "languageId": "r"
    }
   },
   "outputs": [],
   "source": [
    "quit( save=\"no\" )"
   ]
  },
  {
   "cell_type": "code",
   "execution_count": null,
   "id": "5b559bf4",
   "metadata": {
    "vscode": {
     "languageId": "r"
    }
   },
   "outputs": [],
   "source": []
  }
 ],
 "metadata": {
  "kernelspec": {
   "display_name": "R",
   "language": "R",
   "name": "ir"
  },
  "language_info": {
   "codemirror_mode": "r",
   "file_extension": ".r",
   "mimetype": "text/x-r-source",
   "name": "R",
   "pygments_lexer": "r",
   "version": "3.6.0"
  }
 },
 "nbformat": 4,
 "nbformat_minor": 5
}
