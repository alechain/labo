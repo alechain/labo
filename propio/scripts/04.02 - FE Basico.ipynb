{
 "cells": [
  {
   "cell_type": "code",
   "execution_count": null,
   "id": "7ef4bb2e-290d-431a-991f-f0934d7b1a65",
   "metadata": {},
   "outputs": [],
   "source": []
  },
  {
   "cell_type": "code",
   "execution_count": 9,
   "id": "1069511e-1627-45a0-b841-d5c742f4dbe4",
   "metadata": {
    "vscode": {
     "languageId": "r"
    }
   },
   "outputs": [
    {
     "data": {
      "text/html": [
       "<table>\n",
       "<thead><tr><th></th><th scope=col>used</th><th scope=col>(Mb)</th><th scope=col>gc trigger</th><th scope=col>(Mb)</th><th scope=col>max used</th><th scope=col>(Mb)</th></tr></thead>\n",
       "<tbody>\n",
       "\t<tr><th scope=row>Ncells</th><td> 583436 </td><td>31.2    </td><td> 1171272</td><td> 62.6   </td><td> 1171272</td><td> 62.6   </td></tr>\n",
       "\t<tr><th scope=row>Vcells</th><td>1198194 </td><td> 9.2    </td><td>54289524</td><td>414.2   </td><td>70537839</td><td>538.2   </td></tr>\n",
       "</tbody>\n",
       "</table>\n"
      ],
      "text/latex": [
       "\\begin{tabular}{r|llllll}\n",
       "  & used & (Mb) & gc trigger & (Mb) & max used & (Mb)\\\\\n",
       "\\hline\n",
       "\tNcells &  583436  & 31.2     &  1171272 &  62.6    &  1171272 &  62.6   \\\\\n",
       "\tVcells & 1198194  &  9.2     & 54289524 & 414.2    & 70537839 & 538.2   \\\\\n",
       "\\end{tabular}\n"
      ],
      "text/markdown": [
       "\n",
       "| <!--/--> | used | (Mb) | gc trigger | (Mb) | max used | (Mb) |\n",
       "|---|---|---|---|---|---|---|\n",
       "| Ncells |  583436  | 31.2     |  1171272 |  62.6    |  1171272 |  62.6    |\n",
       "| Vcells | 1198194  |  9.2     | 54289524 | 414.2    | 70537839 | 538.2    |\n",
       "\n"
      ],
      "text/plain": [
       "       used    (Mb) gc trigger (Mb)  max used (Mb) \n",
       "Ncells  583436 31.2  1171272    62.6  1171272  62.6\n",
       "Vcells 1198194  9.2 54289524   414.2 70537839 538.2"
      ]
     },
     "metadata": {},
     "output_type": "display_data"
    }
   ],
   "source": [
    "#Feature Engineering\n",
    "#creo nuevas variables dentro del mismo mes\n",
    "#Condimentar a gusto con nuevas variables\n",
    "\n",
    "#limpio la memoria\n",
    "rm( list=ls() )\n",
    "gc()\n",
    "\n",
    "require(\"data.table\")\n",
    "\n",
    "#Establezco el Working Directory\n",
    "setwd('/Users/achain/Documents/github/labo/propio')\n",
    "\n",
    "\n",
    "EnriquecerDataset <- function( dataset , arch_destino )\n",
    "{\n",
    "  columnas_originales <-  copy(colnames( dataset ))\n",
    "\n",
    "  #INICIO de la seccion donde se deben hacer cambios con variables nuevas\n",
    "  #se crean los nuevos campos para MasterCard  y Visa, teniendo en cuenta los NA's\n",
    "  #varias formas de combinar Visa_status y Master_status\n",
    "  dataset[ , mv_status01       := pmax( Master_status,  Visa_status, na.rm = TRUE) ]\n",
    "  dataset[ , mv_status02       := Master_status +  Visa_status ]\n",
    "  dataset[ , mv_status03       := pmax( ifelse( is.na(Master_status), 10, Master_status) , ifelse( is.na(Visa_status), 10, Visa_status) ) ]\n",
    "  dataset[ , mv_status04       := ifelse( is.na(Master_status), 10, Master_status)  +  ifelse( is.na(Visa_status), 10, Visa_status)  ]\n",
    "  dataset[ , mv_status05       := ifelse( is.na(Master_status), 10, Master_status)  +  100*ifelse( is.na(Visa_status), 10, Visa_status)  ]\n",
    "\n",
    "  dataset[ , mv_status06       := ifelse( is.na(Visa_status), \n",
    "                                          ifelse( is.na(Master_status), 10, Master_status), \n",
    "                                          Visa_status)  ]\n",
    "\n",
    "  dataset[ , mv_status07       := ifelse( is.na(Master_status), \n",
    "                                          ifelse( is.na(Visa_status), 10, Visa_status), \n",
    "                                          Master_status)  ]\n",
    "\n",
    "\n",
    "    \n",
    "  #combino MasterCard y Visa\n",
    "  dataset[ , mv_mfinanciacion_limite := rowSums( cbind( Master_mfinanciacion_limite,  Visa_mfinanciacion_limite) , na.rm=TRUE ) ]\n",
    "\n",
    "  dataset[ , mv_Fvencimiento         := pmin( Master_Fvencimiento, Visa_Fvencimiento, na.rm = TRUE) ]\n",
    "  dataset[ , mv_Finiciomora          := pmin( Master_Finiciomora, Visa_Finiciomora, na.rm = TRUE) ]\n",
    "  dataset[ , mv_msaldototal          := rowSums( cbind( Master_msaldototal,  Visa_msaldototal) , na.rm=TRUE ) ]\n",
    "  dataset[ , mv_mconsumospesos       := rowSums( cbind( Master_mconsumospesos,  Visa_mconsumospesos) , na.rm=TRUE ) ]\n",
    "  dataset[ , mv_mconsumosdolares     := rowSums( cbind( Master_mconsumosdolares,  Visa_mconsumosdolares) , na.rm=TRUE ) ]\n",
    "  dataset[ , mv_mlimitecompra        := rowSums( cbind( Master_mlimitecompra,  Visa_mlimitecompra) , na.rm=TRUE ) ]\n",
    "  dataset[ , mv_mpagado              := rowSums( cbind( Master_mpagado,  Visa_mpagado) , na.rm=TRUE ) ]\n",
    "  dataset[ , mv_cconsumos            := rowSums( cbind( Master_cconsumos,  Visa_cconsumos) , na.rm=TRUE ) ]\n",
    "  dataset[ , mv_mpagominimo          := rowSums( cbind( Master_mpagominimo,  Visa_mpagominimo) , na.rm=TRUE ) ]\n",
    "  dataset[ , ratio_mrent          := ifelse(!is.na(mrentabilidad/mrentabilidad_annual),mrentabilidad/mrentabilidad_annual,0) ]\n",
    "  dataset[ , ratio_mrent          := ifelse(!is.na(mrentabilidad/mrentabilidad_annual ),mrentabilidad/mrentabilidad_annual ,0)]\n",
    "  dataset[ , margen_tasa          := mactivos_margen-mpasivos_margen ]\n",
    "  dataset[ , spread          := mactivos_margen-mpasivos_margen ]\n",
    "  dataset[ , ratio_tran_traj          := ifelse(!is.na(ctarjeta_debito_transacciones/ctarjeta_debito),ctarjeta_debito_transacciones/ctarjeta_debito,0) ]\n",
    "  dataset[ , ratio_pres_pers          := ifelse(!is.na(mprestamos_personales/cprestamos_personales),mprestamos_personales/cprestamos_personales,0 )]\n",
    "  dataset[ , ratio_pres_prend          := ifelse(!is.na(mprestamos_prendarios/cprestamos_prendarios),mprestamos_prendarios/cprestamos_prendarios,0 )]\n",
    "  dataset[ , ratio_pres_hipo        := ifelse(!is.na(mprestamos_hipotecarios/cprestamos_hipotecarios),mprestamos_hipotecarios/cprestamos_hipotecarios,0 )]\n",
    "  dataset[ , ratio_plazo_fijo       := ifelse(!is.na(rowSums( cbind( mplazo_fijo_dolares,  mplazo_fijo_pesos) , na.rm=TRUE )/cplazo_fijo), (rowSums( cbind( mplazo_fijo_dolares,  mplazo_fijo_pesos) , na.rm=TRUE )/cplazo_fijo),0)]\n",
    "  dataset[ , ratio_inv_1       := ifelse(!is.na(rowSums( cbind( minversion1_pesos,  minversion1_dolares) , na.rm=TRUE )/cinversion1), (rowSums( cbind( minversion1_pesos,  minversion1_dolares) , na.rm=TRUE )/cinversion1),0)]\n",
    "  dataset[ , ratio_inv_2       := ifelse(!is.na(minversion2/cinversion2),minversion2/cinversion2,0) ]\n",
    "  dataset[ , seguro_total       := rowSums( cbind( cseguro_vida,  cseguro_auto,cseguro_vivienda,cseguro_accidentes_personales) , na.rm=TRUE ) ]\n",
    "  dataset[ , payroll_total       := rowSums( cbind( mpayroll,  mpayroll2) , na.rm=TRUE ) ]\n",
    "  dataset[ , ratio_payroll_total       := ifelse(!is.na(rowSums( cbind( mpayroll,  mpayroll2) , na.rm=TRUE ) /rowSums( cbind( cpayroll_trx,  cpayroll2_trx) , na.rm=TRUE )), (rowSums( cbind( mpayroll,  mpayroll2) , na.rm=TRUE ) /rowSums( cbind( cpayroll_trx,  cpayroll2_trx) , na.rm=TRUE )),0)]\n",
    "  dataset[ , ratio_payroll_2       :=   ifelse(!is.na(mpayroll2/cpayroll2_trx),(mpayroll2/cpayroll2_trx),0)]\n",
    "  dataset[ , ratio_payroll       :=   ifelse(!is.na(mpayroll/cpayroll_trx),mpayroll/cpayroll_trx,0)]\n",
    "  dataset[ , ratio_buy_sel_forex      :=   ifelse(!is.na(mforex_buy/mforex_sell),(mforex_buy/mforex_sell),0)]\n",
    "  dataset[ , ratio_buy_forex      :=   ifelse(!is.na(mforex_buy/cforex_buy),(mforex_buy/cforex_buy),0)]\n",
    "  dataset[ , ratio_sel_forex      :=   ifelse(!is.na(mforex_sell/cforex_sell),(mforex_sell/cforex_sell),0)]\n",
    "  dataset[ , debito_anti      :=   ifelse(!is.na(rowSums( cbind( ccuenta_debitos_automaticos,  ctarjeta_visa_debitos_automaticos,ctarjeta_master_debitos_automaticos) , na.rm=TRUE )*cliente_antiguedad),(rowSums( cbind( ccuenta_debitos_automaticos,  ctarjeta_visa_debitos_automaticos,ctarjeta_master_debitos_automaticos) , na.rm=TRUE )*cliente_antiguedad),0)]\n",
    "  dataset[ , mv_monto_utilizado := mv_mlimitecompra - mv_mpagado ]\n",
    "\n",
    "\n",
    "\n",
    "    \n",
    "  columnas_extendidas <-  copy( setdiff(  colnames(dataset), columnas_originales ) )\n",
    "\n",
    "  #grabo con nombre extendido\n",
    "  fwrite( dataset,\n",
    "          file=arch_destino,\n",
    "          sep= \",\" )\n",
    "}\n",
    "#------------------------------------------------------------------------------\n",
    "\n",
    "#kcarpeta_datasets    <- \"../input/laboratorio-de-implementacion-i-2021/\"   #KAGGLE\n",
    "#kcarpeta_datasets    <- \"./buckets/b1/datasets/\"                          #VM o Ubuntu\n",
    "kcarpeta_datasets    <- \"./datasets/\"                          #VM o Ubuntu\n",
    "\n",
    "#Archivo con datos etiquetados para entrenamiento\n",
    "karchivo_entrada      <-  paste0(kcarpeta_datasets, \"competencia1_2022.csv\")\n",
    "karchivo_salida      <-  paste0(kcarpeta_datasets, \"competencia1_2022_FE.csv\")\n",
    "\n",
    "\n",
    "\n",
    "#lectura rapida del dataset  usando fread  de la libreria  data.table\n",
    "dataset1  <- fread(karchivo_entrada)\n",
    "\n",
    "EnriquecerDataset( dataset1, karchivo_salida )\n",
    "\n",
    "quit( save=\"no\")\n"
   ]
  },
  {
   "cell_type": "code",
   "execution_count": 1,
   "id": "b9621ff5",
   "metadata": {
    "vscode": {
     "languageId": "r"
    }
   },
   "outputs": [
    {
     "data": {
      "text/html": [
       "'/Users/achain/Documents/github/labo/propio/scripts'"
      ],
      "text/latex": [
       "'/Users/achain/Documents/github/labo/propio/scripts'"
      ],
      "text/markdown": [
       "'/Users/achain/Documents/github/labo/propio/scripts'"
      ],
      "text/plain": [
       "[1] \"/Users/achain/Documents/github/labo/propio/scripts\""
      ]
     },
     "metadata": {},
     "output_type": "display_data"
    }
   ],
   "source": [
    "getwd()"
   ]
  },
  {
   "cell_type": "code",
   "execution_count": null,
   "id": "f5b9fcb4-e67d-4d1d-b747-f7cb367fad13",
   "metadata": {},
   "outputs": [],
   "source": []
  }
 ],
 "metadata": {
  "kernelspec": {
   "display_name": "R",
   "language": "R",
   "name": "ir"
  },
  "language_info": {
   "codemirror_mode": "r",
   "file_extension": ".r",
   "mimetype": "text/x-r-source",
   "name": "R",
   "pygments_lexer": "r",
   "version": "3.6.0"
  }
 },
 "nbformat": 4,
 "nbformat_minor": 5
}
