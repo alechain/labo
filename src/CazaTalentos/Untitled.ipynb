{
 "cells": [
  {
   "cell_type": "code",
   "execution_count": 41,
   "id": "30f963cd-856c-49f3-86c3-5041aee90877",
   "metadata": {},
   "outputs": [],
   "source": [
    "library(data.table)"
   ]
  },
  {
   "cell_type": "code",
   "execution_count": 76,
   "id": "257869d2-4f99-4c51-b1b2-b5c6e0e67f86",
   "metadata": {},
   "outputs": [
    {
     "data": {
      "text/html": [
       "<table>\n",
       "<thead><tr><th></th><th scope=col>used</th><th scope=col>(Mb)</th><th scope=col>gc trigger</th><th scope=col>(Mb)</th><th scope=col>max used</th><th scope=col>(Mb)</th></tr></thead>\n",
       "<tbody>\n",
       "\t<tr><th scope=row>Ncells</th><td> 583177</td><td>31.2   </td><td>1163310</td><td>62.2   </td><td>1163310</td><td>62.2   </td></tr>\n",
       "\t<tr><th scope=row>Vcells</th><td>1127041</td><td> 8.6   </td><td>8388608</td><td>64.0   </td><td>1874787</td><td>14.4   </td></tr>\n",
       "</tbody>\n",
       "</table>\n"
      ],
      "text/latex": [
       "\\begin{tabular}{r|llllll}\n",
       "  & used & (Mb) & gc trigger & (Mb) & max used & (Mb)\\\\\n",
       "\\hline\n",
       "\tNcells &  583177 & 31.2    & 1163310 & 62.2    & 1163310 & 62.2   \\\\\n",
       "\tVcells & 1127041 &  8.6    & 8388608 & 64.0    & 1874787 & 14.4   \\\\\n",
       "\\end{tabular}\n"
      ],
      "text/markdown": [
       "\n",
       "| <!--/--> | used | (Mb) | gc trigger | (Mb) | max used | (Mb) |\n",
       "|---|---|---|---|---|---|---|\n",
       "| Ncells |  583177 | 31.2    | 1163310 | 62.2    | 1163310 | 62.2    |\n",
       "| Vcells | 1127041 |  8.6    | 8388608 | 64.0    | 1874787 | 14.4    |\n",
       "\n"
      ],
      "text/plain": [
       "       used    (Mb) gc trigger (Mb) max used (Mb)\n",
       "Ncells  583177 31.2 1163310    62.2 1163310  62.2\n",
       "Vcells 1127041  8.6 8388608    64.0 1874787  14.4"
      ]
     },
     "metadata": {},
     "output_type": "display_data"
    }
   ],
   "source": [
    "#limpio la memoria\n",
    "rm( list=ls() )\n",
    "gc()\n"
   ]
  },
  {
   "cell_type": "code",
   "execution_count": 77,
   "id": "ae5b94c2-afa6-4372-8bb2-248b7a00c390",
   "metadata": {},
   "outputs": [],
   "source": [
    "ftirar<- function(prob,qty){\n",
    "    return(sum(runif(qty)<prob))\n",
    "    }\n"
   ]
  },
  {
   "cell_type": "code",
   "execution_count": 78,
   "id": "fc5b8ca8-34d9-4a9c-9ee0-c987f67caaad",
   "metadata": {},
   "outputs": [],
   "source": [
    "#variables globales que usan las funciones gimnasio_xxxx\n",
    "GLOBAL_jugadores  <- c()\n",
    "GLOBAL_tiros_total  <- 0"
   ]
  },
  {
   "cell_type": "code",
   "execution_count": 79,
   "id": "f17f6d9f-f319-491a-af0d-62dece8a6725",
   "metadata": {},
   "outputs": [],
   "source": [
    "\n",
    "gimnasio_init  <- function() \n",
    "{\n",
    "  GLOBAL_jugadores  <<-  sample( c( (501:599 ) / 1000 , 0.7 ) )\n",
    "  GLOBAL_tiros_total  <<- 0\n",
    "}\n"
   ]
  },
  {
   "cell_type": "code",
   "execution_count": 80,
   "id": "33cabf9a-a760-43c8-9db7-0528a15d584b",
   "metadata": {},
   "outputs": [],
   "source": [
    "#se le pasa un vector con los IDs de los jugadores y la cantidad de tiros a realizar\n",
    "#devuelve en un vector cuantos aciertos tuvo cada jugador\n",
    "gimnasio_tirar  <- function(  pids,  pcantidad )\n",
    "{\n",
    "  GLOBAL_tiros_total  <<-  GLOBAL_tiros_total + length( pids )*pcantidad\n",
    "  res  <- mapply(  ftirar, GLOBAL_jugadores[pids], pcantidad )\n",
    "\n",
    "  return( res )\n",
    "}"
   ]
  },
  {
   "cell_type": "code",
   "execution_count": 81,
   "id": "541a3d3a-52aa-4ee2-9388-f70dc0ad1047",
   "metadata": {},
   "outputs": [],
   "source": [
    "#El cazatalentos decide a que jugador llevarse\n",
    "#devuelve la cantidad de tiros libres y si le acerto al verdadero_mejor o no\n",
    "gimnasio_veredicto  <- function( pid )\n",
    "{\n",
    "  return( list(\"tiros_total\"= GLOBAL_tiros_total, \n",
    "               \"acierto\"=     as.integer( GLOBAL_jugadores[pid]==0.7) ))\n",
    "}"
   ]
  },
  {
   "cell_type": "code",
   "execution_count": 82,
   "id": "7d5d6fac-53f1-497b-8649-6acf0cb65a35",
   "metadata": {},
   "outputs": [],
   "source": [
    "set.seed( 102191 )\n",
    "\n",
    "#inicializo el juego\n",
    "gimnasio_init()\n",
    "\n",
    "#Esta el la planilla del cazatalentos\n",
    "planilla_cazatalentos  <- data.table( \"id\" = 1:100 )\n"
   ]
  },
  {
   "cell_type": "code",
   "execution_count": null,
   "id": "d47512cc-8541-494d-b3b2-9021d895a55f",
   "metadata": {},
   "outputs": [],
   "source": []
  },
  {
   "cell_type": "code",
   "execution_count": 83,
   "id": "cef775bb-a5d0-41dc-ad34-459869669482",
   "metadata": {},
   "outputs": [],
   "source": [
    "#Ronda 1  ------------------------------------------------------\n",
    "#tiran los 100 jugadores es decir 1:100  90 tiros libres cada uno\n",
    "ids_juegan1  <- 1:100   #los jugadores que participan en la ronda,\n"
   ]
  },
  {
   "cell_type": "code",
   "execution_count": 84,
   "id": "336e3b7d-456c-43ef-859e-c12dbbb2cbb9",
   "metadata": {},
   "outputs": [],
   "source": [
    "planilla_cazatalentos[ ids_juegan1,  tiros1 := 90 ]  #registro en la planilla que tiran 90 tiros\n"
   ]
  },
  {
   "cell_type": "code",
   "execution_count": 89,
   "id": "cdc89ad2-bbc4-45ad-be53-5736e7529b82",
   "metadata": {},
   "outputs": [],
   "source": [
    "#Hago que tiren\n",
    "resultado1  <- gimnasio_tirar( ids_juegan1, 90)\n",
    "planilla_cazatalentos[ ids_juegan1,  aciertos1 := resultado1 ]  #registro en la planilla\n"
   ]
  },
  {
   "cell_type": "code",
   "execution_count": 91,
   "id": "673465fb-bb1d-42a5-b2ac-b0f7ff6b85aa",
   "metadata": {},
   "outputs": [],
   "source": [
    "#Ronda 2 -------------------------------------------------------\n",
    "#los mejores 40 jugadores tiran 400 tiros cada uno\n",
    "mediana  <- planilla_cazatalentos[ ids_juegan1, median(aciertos1) ]"
   ]
  },
  {
   "cell_type": "code",
   "execution_count": 102,
   "id": "181e4fe9-510b-4cd7-975f-343aaca98956",
   "metadata": {},
   "outputs": [],
   "source": [
    "ids_juegan2  <- planilla_cazatalentos[ ids_juegan1 ][aciertos1 >= mediana, id ]\n"
   ]
  },
  {
   "cell_type": "code",
   "execution_count": null,
   "id": "606da225-cdb8-42b7-bfe8-b9d5fc919c52",
   "metadata": {},
   "outputs": [],
   "source": []
  },
  {
   "cell_type": "code",
   "execution_count": 103,
   "id": "cd2db40c-d30b-4d5d-8fff-73faaec09ed0",
   "metadata": {},
   "outputs": [],
   "source": [
    "planilla_cazatalentos[ ids_juegan2,  tiros2 := 400 ]  #registro en la planilla que tiran 400 tiros\n",
    "resultado2  <- gimnasio_tirar( ids_juegan2, 400)\n",
    "planilla_cazatalentos[ ids_juegan2,  aciertos2 := resultado2 ]  #registro en la planilla"
   ]
  },
  {
   "cell_type": "code",
   "execution_count": 108,
   "id": "6d2d24ca-3801-4866-b66b-9e0bcad25634",
   "metadata": {},
   "outputs": [],
   "source": [
    "#El cazatalentos toma una decision, elige al que mas aciertos tuvo en la ronda2\n",
    "pos_mejor <-  planilla_cazatalentos[ , which.max(aciertos2) ]\n",
    "id_mejor  <-  planilla_cazatalentos[ pos_mejor, id ]"
   ]
  },
  {
   "cell_type": "code",
   "execution_count": 104,
   "id": "e1c8a4b7-6191-4112-8a5b-83f708325c68",
   "metadata": {},
   "outputs": [],
   "source": []
  },
  {
   "cell_type": "code",
   "execution_count": 109,
   "id": "967c7741-0544-4708-9611-64d9eaab6e3b",
   "metadata": {},
   "outputs": [
    {
     "data": {
      "text/html": [
       "<dl>\n",
       "\t<dt>$tiros_total</dt>\n",
       "\t\t<dd>40400</dd>\n",
       "\t<dt>$acierto</dt>\n",
       "\t\t<dd>1</dd>\n",
       "</dl>\n"
      ],
      "text/latex": [
       "\\begin{description}\n",
       "\\item[\\$tiros\\_total] 40400\n",
       "\\item[\\$acierto] 1\n",
       "\\end{description}\n"
      ],
      "text/markdown": [
       "$tiros_total\n",
       ":   40400\n",
       "$acierto\n",
       ":   1\n",
       "\n",
       "\n"
      ],
      "text/plain": [
       "$tiros_total\n",
       "[1] 40400\n",
       "\n",
       "$acierto\n",
       "[1] 1\n"
      ]
     },
     "metadata": {},
     "output_type": "display_data"
    }
   ],
   "source": [
    "#Finalmente, la hora de la verdadero_mejor\n",
    "#Termino el juego\n",
    "veredicto  <- gimnasio_veredicto( id_mejor )\n",
    "\n",
    "veredicto"
   ]
  },
  {
   "cell_type": "code",
   "execution_count": null,
   "id": "7995b268-73c6-4521-822a-0e573188efa6",
   "metadata": {},
   "outputs": [],
   "source": [
    "#### hacemos con la estimación de montecarlo\n"
   ]
  },
  {
   "cell_type": "code",
   "execution_count": 110,
   "id": "2873fb75-6a7b-491f-aab1-c94a653d30f6",
   "metadata": {},
   "outputs": [
    {
     "data": {
      "text/html": [
       "<table>\n",
       "<thead><tr><th></th><th scope=col>used</th><th scope=col>(Mb)</th><th scope=col>gc trigger</th><th scope=col>(Mb)</th><th scope=col>max used</th><th scope=col>(Mb)</th></tr></thead>\n",
       "<tbody>\n",
       "\t<tr><th scope=row>Ncells</th><td> 586136</td><td>31.4   </td><td>1163310</td><td>62.2   </td><td>1163310</td><td>62.2   </td></tr>\n",
       "\t<tr><th scope=row>Vcells</th><td>1151216</td><td> 8.8   </td><td>8388608</td><td>64.0   </td><td>1874787</td><td>14.4   </td></tr>\n",
       "</tbody>\n",
       "</table>\n"
      ],
      "text/latex": [
       "\\begin{tabular}{r|llllll}\n",
       "  & used & (Mb) & gc trigger & (Mb) & max used & (Mb)\\\\\n",
       "\\hline\n",
       "\tNcells &  586136 & 31.4    & 1163310 & 62.2    & 1163310 & 62.2   \\\\\n",
       "\tVcells & 1151216 &  8.8    & 8388608 & 64.0    & 1874787 & 14.4   \\\\\n",
       "\\end{tabular}\n"
      ],
      "text/markdown": [
       "\n",
       "| <!--/--> | used | (Mb) | gc trigger | (Mb) | max used | (Mb) |\n",
       "|---|---|---|---|---|---|---|\n",
       "| Ncells |  586136 | 31.4    | 1163310 | 62.2    | 1163310 | 62.2    |\n",
       "| Vcells | 1151216 |  8.8    | 8388608 | 64.0    | 1874787 | 14.4    |\n",
       "\n"
      ],
      "text/plain": [
       "       used    (Mb) gc trigger (Mb) max used (Mb)\n",
       "Ncells  586136 31.4 1163310    62.2 1163310  62.2\n",
       "Vcells 1151216  8.8 8388608    64.0 1874787  14.4"
      ]
     },
     "metadata": {},
     "output_type": "display_data"
    }
   ],
   "source": [
    "#Intento de Solucion del desafio  15k\n",
    "#que NO logra solucionarlo, una que falta una idea fundamental, una chispa, un Momento Eureka\n",
    "#pero crea estructura sobre la cual trabajar\n",
    "\n",
    "\n",
    "#limpio la memoria\n",
    "rm( list=ls() )\n",
    "gc()\n",
    "\n",
    "require(\"data.table\")\n",
    "\n",
    "ftirar  <- function( prob, qty )\n",
    "{\n",
    "  return(  sum( runif(qty) < prob ) )\n",
    "}\n",
    "\n",
    "\n",
    "#variables globales que usan las funciones gimnasio_xxxx\n",
    "GLOBAL_jugadores  <- c()\n",
    "GLOBAL_tiros_total  <- 0\n",
    "\n",
    "#Crea el juego\n",
    "#a cada jugador se le pone un numero de 1 a 100 en la espalda\n",
    "#debajo de ese numero esta el indice_de_enceste  que NO puede ser visto por el cazatalentos\n",
    "gimnasio_init  <- function() \n",
    "{\n",
    "  GLOBAL_jugadores  <<- sample( c( (501:599 ) / 1000 , 0.7 ) )\n",
    "  GLOBAL_tiros_total  <<- 0\n",
    "}\n",
    "\n",
    "\n",
    "#se le pasa un vector con los IDs de los jugadores y la cantidad de tiros a realizar\n",
    "#devuelve en un vector cuantos aciertos tuvo cada jugador\n",
    "gimnasio_tirar  <- function(  pids,  pcantidad )\n",
    "{\n",
    "  GLOBAL_tiros_total  <<-  GLOBAL_tiros_total + length( pids )*pcantidad\n",
    "  res  <- mapply(  ftirar, GLOBAL_jugadores[pids], pcantidad )\n",
    "\n",
    "  return( res )\n",
    "}\n",
    "\n",
    "\n",
    "#El cazatalentos decide a que jugador llevarse\n",
    "#devuelve la cantidad de tiros libres y si le acerto al verdadero_mejor o no\n",
    "gimnasio_veredicto  <- function( pid )\n",
    "{\n",
    "  return( list(\"tiros_total\"= GLOBAL_tiros_total, \n",
    "               \"acierto\"=     as.integer( GLOBAL_jugadores[pid]==0.7) ))\n",
    "}\n",
    "#------------------------------------------------------------------------------\n",
    "\n",
    "Estrategia_A  <- function()\n",
    "{\n",
    "  #Estrategia\n",
    "  #En la primer ronda se hace tirar 90 tiros libres a cada uno de los 100 jugadores ( se gastan 9000 tiros )\n",
    "  #Se eligen a la mejor mitad de primer ronda( se descarta a la otra mitad)\n",
    "  #En la segunda ronda, a la mejor mitad de la primera se los hace tirar 400 tiros a cada uno\n",
    "  #Se elige el mejor jugador de la segunda ronda\n",
    "\n",
    "  gimnasio_init()\n",
    "\n",
    "  #Esta el la planilla del cazatalentos\n",
    "  #el id es el numero que tiene en la espalda cada jugador\n",
    "  planilla_cazatalentos  <- data.table( \"id\"= 1:100 )\n",
    "\n",
    "  #Ronda 1  ------------------------------------------------------\n",
    "  #tiran los 100 jugadores es decir 1:100   90  tiros libres cada uno\n",
    "  ids_juegan1  <- 1:100   #los jugadores que participan en la ronda,\n",
    "\n",
    "  planilla_cazatalentos[ ids_juegan1,  tiros1 := 90 ]  #registro en la planilla que tiran 90 tiros\n",
    "\n",
    "  #Hago que tiren\n",
    "  resultado1  <- gimnasio_tirar( ids_juegan1, 90)\n",
    "  planilla_cazatalentos[ ids_juegan1,  aciertos1 := resultado1 ]  #registro en la planilla\n",
    "\n",
    "  #Ronda 2 -------------------------------------------------------\n",
    "  #A la mitad mejor la hago tirar 400 tiros cada uno\n",
    "  #La mediana siempre parte a un conjunto en dos partes de igual cantidad\n",
    "  mediana  <- planilla_cazatalentos[ ids_juegan1, median(aciertos1) ]\n",
    "  ids_juegan2  <- planilla_cazatalentos[ ids_juegan1 ][ aciertos1 >= mediana, id ]\n",
    "\n",
    "  planilla_cazatalentos[ ids_juegan2,  tiros2 := 400 ]  #registro en la planilla que tiran 400 tiros\n",
    "  resultado2  <- gimnasio_tirar( ids_juegan2, 400)\n",
    "  planilla_cazatalentos[ ids_juegan2,  aciertos2 := resultado2 ]  #registro en la planilla\n",
    "\n",
    "  #Epilogo\n",
    "  #El cazatalentos toma una decision, elige al que mas aciertos tuvo en la ronda2\n",
    "  pos_mejor <-  planilla_cazatalentos[ , which.max(aciertos2) ]\n",
    "  id_mejor  <-  planilla_cazatalentos[ pos_mejor, id ]\n",
    "\n",
    "  #Finalmente, la hora de la verdadero_mejor\n",
    "  #Termino el juego\n",
    "  veredicto  <- gimnasio_veredicto( id_mejor )\n",
    "  \n",
    "  return( veredicto )\n",
    "}\n",
    "#------"
   ]
  },
  {
   "cell_type": "code",
   "execution_count": 111,
   "id": "af39eb1b-9b47-4526-8f0d-d04222c1657a",
   "metadata": {},
   "outputs": [
    {
     "name": "stdout",
     "output_type": "stream",
     "text": [
      "1000  2000  3000  4000  5000  6000  7000  8000  9000  10000  \n"
     ]
    },
    {
     "data": {
      "text/html": [
       "36600"
      ],
      "text/latex": [
       "36600"
      ],
      "text/markdown": [
       "36600"
      ],
      "text/plain": [
       "[1] 36600"
      ]
     },
     "metadata": {},
     "output_type": "display_data"
    },
    {
     "data": {
      "text/html": [
       "0.9905"
      ],
      "text/latex": [
       "0.9905"
      ],
      "text/markdown": [
       "0.9905"
      ],
      "text/plain": [
       "[1] 0.9905"
      ]
     },
     "metadata": {},
     "output_type": "display_data"
    }
   ],
   "source": [
    "set.seed( 102191 )  #debe ir una sola vez, ANTES de los experimentos\n",
    "\n",
    "tabla_veredictos  <- data.table(  tiros_total=integer(),  acierto=integer() )\n",
    "\n",
    "for( experimento  in  1:10000 )\n",
    "{\n",
    "  if( experimento %% 1000 == 0 )  cat( experimento, \" \")  #desprolijo, pero es para saber por donde voy\n",
    "\n",
    "  veredicto  <- Estrategia_A()\n",
    "  \n",
    "  tabla_veredictos  <- rbind( tabla_veredictos, veredicto )\n",
    "}\n",
    "\n",
    "cat(\"\\n\")\n",
    "\n",
    "tiros_total  <-  tabla_veredictos[  , max( tiros_total) ]\n",
    "tasa_eleccion_correcta  <-  tabla_veredictos[  , mean( acierto) ]\n",
    "\n",
    "tiros_total\n",
    "tasa_eleccion_correcta"
   ]
  },
  {
   "cell_type": "code",
   "execution_count": 112,
   "id": "e8d8784c-7a44-4534-bc30-c417151213df",
   "metadata": {},
   "outputs": [
    {
     "data": {
      "text/html": [
       "0.9905"
      ],
      "text/latex": [
       "0.9905"
      ],
      "text/markdown": [
       "0.9905"
      ],
      "text/plain": [
       "[1] 0.9905"
      ]
     },
     "metadata": {},
     "output_type": "display_data"
    }
   ],
   "source": [
    "tasa_eleccion_correcta"
   ]
  },
  {
   "cell_type": "code",
   "execution_count": null,
   "id": "9f4d3d75-d3f5-4e6d-a1e6-c17ae3b4d776",
   "metadata": {},
   "outputs": [],
   "source": []
  }
 ],
 "metadata": {
  "kernelspec": {
   "display_name": "R",
   "language": "R",
   "name": "ir"
  },
  "language_info": {
   "codemirror_mode": "r",
   "file_extension": ".r",
   "mimetype": "text/x-r-source",
   "name": "R",
   "pygments_lexer": "r",
   "version": "3.6.0"
  }
 },
 "nbformat": 4,
 "nbformat_minor": 5
}
